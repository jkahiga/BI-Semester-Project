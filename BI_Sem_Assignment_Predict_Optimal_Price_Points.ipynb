{
  "nbformat": 4,
  "nbformat_minor": 0,
  "metadata": {
    "colab": {
      "provenance": []
    },
    "kernelspec": {
      "name": "python3",
      "display_name": "Python 3"
    },
    "language_info": {
      "name": "python"
    }
  },
  "cells": [
    {
      "cell_type": "markdown",
      "source": [
        "# Step 1: Libraries"
      ],
      "metadata": {
        "id": "MYfeHQWgbd8V"
      }
    },
    {
      "cell_type": "code",
      "execution_count": 46,
      "metadata": {
        "id": "-HssRS6-ZqsV"
      },
      "outputs": [],
      "source": [
        "import pandas as pd\n",
        "import numpy as np\n",
        "from sklearn.model_selection import train_test_split\n",
        "from sklearn.linear_model import LinearRegression\n",
        "from sklearn.tree import DecisionTreeRegressor\n",
        "from sklearn.ensemble import RandomForestRegressor, GradientBoostingRegressor\n",
        "from sklearn.metrics import mean_squared_error, mean_absolute_error, r2_score\n",
        "from sklearn.cluster import KMeans\n",
        "from sklearn.preprocessing import StandardScaler, OneHotEncoder\n",
        "from sklearn.compose import ColumnTransformer\n",
        "from sklearn.pipeline import Pipeline\n",
        "import matplotlib.pyplot as plt\n",
        "import seaborn as sns\n",
        "import sqlite3"
      ]
    },
    {
      "cell_type": "markdown",
      "source": [
        "# Step 2: Load necessary data"
      ],
      "metadata": {
        "id": "9SLLm_87bqJz"
      }
    },
    {
      "cell_type": "code",
      "source": [
        "conn = sqlite3.connect('classic.db')\n",
        "order_details = pd.read_sql_query(\"SELECT * FROM orderdetails\", conn)\n",
        "products = pd.read_sql_query(\"SELECT * FROM products\", conn)\n",
        "conn.close()"
      ],
      "metadata": {
        "id": "mNZRl7HVbvTl"
      },
      "execution_count": 47,
      "outputs": []
    },
    {
      "cell_type": "markdown",
      "source": [
        "# Step 3: Data Preparation"
      ],
      "metadata": {
        "id": "BJYRm5jsb49U"
      }
    },
    {
      "cell_type": "code",
      "source": [
        "np.random.seed(42)\n",
        "num_products = 10\n",
        "num_samples = 100"
      ],
      "metadata": {
        "id": "6cequVJzb89k"
      },
      "execution_count": 48,
      "outputs": []
    },
    {
      "cell_type": "code",
      "source": [
        "data = {\n",
        "    'productCode': np.random.choice([f'Product_{i}' for i in range(num_products)], num_samples),\n",
        "    'price': np.random.uniform(10, 100, num_samples),\n",
        "    'quantityOrdered': np.random.randint(1, 50, num_samples)\n",
        "}\n",
        "sales_data = pd.DataFrame(data)"
      ],
      "metadata": {
        "id": "JASnHUyqcBfj"
      },
      "execution_count": 49,
      "outputs": []
    },
    {
      "cell_type": "markdown",
      "source": [
        "# Step 4: Aggregation"
      ],
      "metadata": {
        "id": "f7KsCa_7cF00"
      }
    },
    {
      "cell_type": "code",
      "source": [
        "sales_performance = sales_data.groupby('productCode').agg({\n",
        "    'quantityOrdered': 'sum',\n",
        "    'price': 'mean'\n",
        "}).reset_index()"
      ],
      "metadata": {
        "id": "3d0sybMlcE5S"
      },
      "execution_count": 50,
      "outputs": []
    },
    {
      "cell_type": "markdown",
      "source": [
        "# Step 5: Feature Preparation, Model Training and Implementation"
      ],
      "metadata": {
        "id": "O1ZkBFMOcRF8"
      }
    },
    {
      "cell_type": "code",
      "source": [
        "optimal_prices = []"
      ],
      "metadata": {
        "id": "BkuF1bf_gWj-"
      },
      "execution_count": 51,
      "outputs": []
    },
    {
      "cell_type": "code",
      "source": [
        "for product in sales_performance['productCode']:\n",
        "    product_data = sales_data[sales_data['productCode'] == product]\n",
        "\n",
        "    # Prepare features and target variable\n",
        "    x = product_data[['price']]\n",
        "    y = product_data['quantityOrdered']\n",
        "\n",
        "    # Split into training and testing sets\n",
        "    x_train, x_test, y_train, y_test = train_test_split(x, y, test_size=0.2, random_state=42)\n",
        "\n",
        "    # Train Decision Tree Model\n",
        "    decision_tree_model = DecisionTreeRegressor()\n",
        "    decision_tree_model.fit(x_train, y_train)\n",
        "\n",
        "    # Generate a range of prices from 10 to 100 for prediction\n",
        "    price_range = np.linspace(10, 100, 100).reshape(-1, 1)\n",
        "    predicted_quantities = decision_tree_model.predict(price_range)\n",
        "\n",
        "    # Find the optimal price for this product\n",
        "    optimal_price_index = np.argmax(predicted_quantities)\n",
        "    optimal_price = price_range[optimal_price_index][0]\n",
        "    optimal_quantity = predicted_quantities[optimal_price_index]\n",
        "\n",
        "    # Store the optimal price and quantity\n",
        "    optimal_prices.append({\n",
        "        'productCode': product,\n",
        "        'Optimal Price': optimal_price,\n",
        "        'Optimal Quantity Ordered': optimal_quantity\n",
        "    })\n"
      ],
      "metadata": {
        "colab": {
          "base_uri": "https://localhost:8080/"
        },
        "id": "ornNwsccgaQ2",
        "outputId": "cdeae9ac-667e-4d3c-d94b-0396c56a1967"
      },
      "execution_count": 70,
      "outputs": [
        {
          "output_type": "stream",
          "name": "stderr",
          "text": [
            "/usr/local/lib/python3.10/dist-packages/sklearn/base.py:493: UserWarning: X does not have valid feature names, but DecisionTreeRegressor was fitted with feature names\n",
            "  warnings.warn(\n",
            "/usr/local/lib/python3.10/dist-packages/sklearn/base.py:493: UserWarning: X does not have valid feature names, but DecisionTreeRegressor was fitted with feature names\n",
            "  warnings.warn(\n",
            "/usr/local/lib/python3.10/dist-packages/sklearn/base.py:493: UserWarning: X does not have valid feature names, but DecisionTreeRegressor was fitted with feature names\n",
            "  warnings.warn(\n",
            "/usr/local/lib/python3.10/dist-packages/sklearn/base.py:493: UserWarning: X does not have valid feature names, but DecisionTreeRegressor was fitted with feature names\n",
            "  warnings.warn(\n",
            "/usr/local/lib/python3.10/dist-packages/sklearn/base.py:493: UserWarning: X does not have valid feature names, but DecisionTreeRegressor was fitted with feature names\n",
            "  warnings.warn(\n",
            "/usr/local/lib/python3.10/dist-packages/sklearn/base.py:493: UserWarning: X does not have valid feature names, but DecisionTreeRegressor was fitted with feature names\n",
            "  warnings.warn(\n",
            "/usr/local/lib/python3.10/dist-packages/sklearn/base.py:493: UserWarning: X does not have valid feature names, but DecisionTreeRegressor was fitted with feature names\n",
            "  warnings.warn(\n",
            "/usr/local/lib/python3.10/dist-packages/sklearn/base.py:493: UserWarning: X does not have valid feature names, but DecisionTreeRegressor was fitted with feature names\n",
            "  warnings.warn(\n",
            "/usr/local/lib/python3.10/dist-packages/sklearn/base.py:493: UserWarning: X does not have valid feature names, but DecisionTreeRegressor was fitted with feature names\n",
            "  warnings.warn(\n",
            "/usr/local/lib/python3.10/dist-packages/sklearn/base.py:493: UserWarning: X does not have valid feature names, but DecisionTreeRegressor was fitted with feature names\n",
            "  warnings.warn(\n"
          ]
        }
      ]
    },
    {
      "cell_type": "code",
      "source": [
        "optimal_prices_df = pd.DataFrame(optimal_prices)"
      ],
      "metadata": {
        "id": "NOyj4hxmhaPO"
      },
      "execution_count": 71,
      "outputs": []
    },
    {
      "cell_type": "markdown",
      "source": [
        "# Step 6: Visualization"
      ],
      "metadata": {
        "id": "9Oj4GLEIhIxd"
      }
    },
    {
      "cell_type": "code",
      "source": [
        "comparison_df = sales_performance.merge(optimal_prices_df, on='productCode')\n",
        "\n",
        "# Create a bar chart\n",
        "plt.figure(figsize=(12, 6))\n",
        "\n",
        "# Set the bar width\n",
        "bar_width = 0.35\n",
        "index = np.arange(len(comparison_df))\n",
        "\n",
        "# Plot actual prices\n",
        "plt.bar(index, comparison_df['price'], bar_width, label='Actual Prices', color='blue')\n",
        "\n",
        "# Plot predicted optimal prices\n",
        "plt.bar(index + bar_width, comparison_df['Optimal Price'], bar_width, label='Predicted Optimal Prices', color='orange')\n",
        "\n",
        "# Adding labels and title\n",
        "plt.xlabel('Product Code')\n",
        "plt.ylabel('Price')\n",
        "plt.title('Actual Prices vs. Predicted Optimal Prices Using Decision Tree')\n",
        "plt.xticks(index + bar_width / 2, comparison_df['productCode'], rotation=45)\n",
        "plt.legend()\n",
        "plt.grid(axis='y')\n",
        "plt.tight_layout()\n",
        "plt.show()"
      ],
      "metadata": {
        "colab": {
          "base_uri": "https://localhost:8080/",
          "height": 329
        },
        "id": "pvUOxX75hIDl",
        "outputId": "ebcab88d-acd4-44a9-8156-0734ee707c1c"
      },
      "execution_count": 72,
      "outputs": [
        {
          "output_type": "display_data",
          "data": {
            "text/plain": [
              "<Figure size 1200x600 with 1 Axes>"
            ],
            "image/png": "[encoded data removed]"
          },
          "metadata": {}
        }
      ]
    }
  ]
}